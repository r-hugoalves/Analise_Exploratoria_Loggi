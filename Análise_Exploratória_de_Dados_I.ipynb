{
  "nbformat": 4,
  "nbformat_minor": 0,
  "metadata": {
    "colab": {
      "provenance": [],
      "toc_visible": true,
      "authorship_tag": "ABX9TyOJnhU9PzKwXVt85nf4o9dp",
      "include_colab_link": true
    },
    "kernelspec": {
      "name": "python3",
      "display_name": "Python 3"
    },
    "language_info": {
      "name": "python"
    }
  },
  "cells": [
    {
      "cell_type": "markdown",
      "metadata": {
        "id": "view-in-github",
        "colab_type": "text"
      },
      "source": [
        "<a href=\"https://colab.research.google.com/github/r-hugoalves/Analise_Exploratoria_Loggi/blob/master/An%C3%A1lise_Explorat%C3%B3ria_de_Dados_I.ipynb\" target=\"_parent\"><img src=\"https://colab.research.google.com/assets/colab-badge.svg\" alt=\"Open In Colab\"/></a>"
      ]
    },
    {
      "cell_type": "markdown",
      "source": [
        "# Análise Exploratória de Dados | Python"
      ],
      "metadata": {
        "id": "ladinCBJv6kp"
      }
    },
    {
      "cell_type": "markdown",
      "source": [
        "## O que será abordado, e com o que iremos trabalhar?"
      ],
      "metadata": {
        "id": "LSOUqPBrv6uN"
      }
    },
    {
      "cell_type": "markdown",
      "source": [
        "Esse projeto consiste em trabalhar com desafios em cima do repositório `Loggi Benchmark for Urban Deliveries (BUD)` disponibilizado pela empresa `Loggi` no github ([link](https://github.com/loggi/loggibud)).\n",
        "\n",
        "O repositório contém dados e códigos para problemas típicos que empresas de logística enfrentam: otimização das rotas de entrega, alocação de entregas nos veículos da frota com capacidade limitada, etc. Os dados são sintetizados de fontes públicas (IBGE, IPEA, etc.) e são representativos dos desafios que a startup enfrenta no dia a dia, especialmente com relação a sua escala."
      ],
      "metadata": {
        "id": "OdlMnnBMv6pG"
      }
    },
    {
      "cell_type": "markdown",
      "source": [
        " Vamos trabalhar com um sub conjunto dos dados originais presentes neste [link](https://github.com/loggi/loggibud/blob/master/docs/quickstart.md). Em especial, foram consolidados em um único arquivo `JSON` as instâncias de treino de `cvrp` da cidade de Brasília."
      ],
      "metadata": {
        "id": "R-oFBchyw0MM"
      }
    },
    {
      "cell_type": "markdown",
      "source": [
        "## Parte I - Exploração dos Dados"
      ],
      "metadata": {
        "id": "CrZTWQNAztOU"
      }
    },
    {
      "cell_type": "markdown",
      "source": [
        "## Parte II - Transformação e Limpeza dos Dados"
      ],
      "metadata": {
        "id": "0GsKdkOVz1L1"
      }
    },
    {
      "cell_type": "markdown",
      "source": [
        "## Parte III - Visualização dos Dados"
      ],
      "metadata": {
        "id": "VI-ixwT9z06o"
      }
    },
    {
      "cell_type": "markdown",
      "source": [
        "## Parte IV - Storytelling dos Dados"
      ],
      "metadata": {
        "id": "WCWn2zTpz0mC"
      }
    }
  ]
}