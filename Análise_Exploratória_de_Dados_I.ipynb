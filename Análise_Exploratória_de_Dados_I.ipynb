{
  "nbformat": 4,
  "nbformat_minor": 0,
  "metadata": {
    "colab": {
      "provenance": [],
      "toc_visible": true,
      "authorship_tag": "ABX9TyMCEo7Usliz6GwGZ8JLmLgQ",
      "include_colab_link": true
    },
    "kernelspec": {
      "name": "python3",
      "display_name": "Python 3"
    },
    "language_info": {
      "name": "python"
    }
  },
  "cells": [
    {
      "cell_type": "markdown",
      "metadata": {
        "id": "view-in-github",
        "colab_type": "text"
      },
      "source": [
        "<a href=\"https://colab.research.google.com/github/r-hugoalves/Analise_Exploratoria_Loggi/blob/master/An%C3%A1lise_Explorat%C3%B3ria_de_Dados_I.ipynb\" target=\"_parent\"><img src=\"https://colab.research.google.com/assets/colab-badge.svg\" alt=\"Open In Colab\"/></a>"
      ]
    },
    {
      "cell_type": "markdown",
      "source": [
        "# Análise Exploratória de Dados | Python"
      ],
      "metadata": {
        "id": "ladinCBJv6kp"
      }
    },
    {
      "cell_type": "markdown",
      "source": [
        "## **O que será abordado, e com o que iremos trabalhar?**"
      ],
      "metadata": {
        "id": "LSOUqPBrv6uN"
      }
    },
    {
      "cell_type": "markdown",
      "source": [
        "Esse projeto consiste em trabalhar com desafios em cima do repositório `Loggi Benchmark for Urban Deliveries (BUD)` disponibilizado pela empresa `Loggi` no github ([link](https://github.com/loggi/loggibud)).\n",
        "\n",
        "O repositório contém dados e códigos para problemas típicos que empresas de logística enfrentam: otimização das rotas de entrega, alocação de entregas nos veículos da frota com capacidade limitada, etc. Os dados são sintetizados de fontes públicas (IBGE, IPEA, etc.) e são representativos dos desafios que a startup enfrenta no dia a dia, especialmente com relação a sua escala."
      ],
      "metadata": {
        "id": "OdlMnnBMv6pG"
      }
    },
    {
      "cell_type": "markdown",
      "source": [
        " Vamos trabalhar com um sub conjunto dos dados originais presentes neste [link](https://github.com/loggi/loggibud/blob/master/docs/quickstart.md). Em especial, foram consolidados em um único arquivo `JSON` as instâncias de treino de `cvrp` da cidade de Brasília."
      ],
      "metadata": {
        "id": "R-oFBchyw0MM"
      }
    },
    {
      "cell_type": "markdown",
      "source": [
        "## **Parte I - Exploração dos Dados**"
      ],
      "metadata": {
        "id": "CrZTWQNAztOU"
      }
    },
    {
      "cell_type": "markdown",
      "source": [
        "O dado bruto é um arquivo do tipo `JSON` com uma lista de instâncias de entregas. Cada instância representa um conjunto de **entregas** que devem ser realizadas pelos **veículos** do **hub** regional. Exemplo:"
      ],
      "metadata": {
        "id": "KYGZ3U6T85bp"
      }
    },
    {
      "cell_type": "markdown",
      "source": [
        "```json\n",
        "[\n",
        "  {\n",
        "    \"name\": \"cvrp-0-df-0\",\n",
        "    \"region\": \"df-0\",\n",
        "    \"origin\": {\"lng\": -47.802664728268745, \"lat\": -15.657013854445248},\n",
        "    \"vehicle_capacity\": 180,\n",
        "    \"deliveries\": [\n",
        "      {\n",
        "        \"id\": \"ed0993f8cc70d998342f38ee827176dc\",\n",
        "        \"point\": {\"lng\": -47.7496622016347, \"lat\": -15.65879313293694},\n",
        "        \"size\": 10\n",
        "      },\n",
        "      {\n",
        "        \"id\": \"c7220154adc7a3def8f0b2b8a42677a9\",\n",
        "        \"point\": {\"lng\": -47.75887552060412, \"lat\": -15.651440380492554},\n",
        "        \"size\": 10\n",
        "      },\n",
        "      ...\n",
        "    ]\n",
        "  }\n",
        "]\n",
        "...\n"
      ],
      "metadata": {
        "id": "f9mnfmm49LV_"
      }
    },
    {
      "cell_type": "markdown",
      "source": [
        "### Parte I.I - Coleta"
      ],
      "metadata": {
        "id": "VXgJCHsi9UjY"
      }
    },
    {
      "cell_type": "code",
      "source": [
        "#Vamos realizar o download dos dados para trabalhar. O nome do arquivo será \"deliveries.json\"\n",
        "\n",
        "!wget -q \"https://raw.githubusercontent.com/andre-marcos-perez/ebac-course-utils/main/dataset/deliveries.json\" -O deliveries.json "
      ],
      "metadata": {
        "id": "2Sxo6PyH-G7X"
      },
      "execution_count": 2,
      "outputs": []
    },
    {
      "cell_type": "code",
      "source": [
        "#Agora, para que possamos manipular os dados, vamos carregá-los em um dicionário Python\n",
        "\n",
        "import json\n",
        "\n",
        "with open('deliveries.json', mode='r', encoding='utf8') as file:\n",
        "  data = json.load(file)"
      ],
      "metadata": {
        "id": "jRCFO8SQ-tGU"
      },
      "execution_count": 3,
      "outputs": []
    },
    {
      "cell_type": "code",
      "source": [
        "#Vamos fazer a exploração dos dados para conhecê-los\n",
        "\n",
        "exemplo = data[0]\n",
        "print(exemplo.keys())"
      ],
      "metadata": {
        "id": "-WD1yJjq_WWc"
      },
      "execution_count": null,
      "outputs": []
    },
    {
      "cell_type": "code",
      "source": [
        "#Acessando as chaves\n",
        "\n",
        "print(exemplo['name'])\n",
        "print(exemplo['region'])\n",
        "print(exemplo['origin']['lat'])\n",
        "print(exemplo['origin']['lng'])\n",
        "print(exemplo['vehicle_capacity'])\n",
        "print(exemplo['deliveries'][0]['id'])"
      ],
      "metadata": {
        "id": "x6oz9-WZ_pAg"
      },
      "execution_count": null,
      "outputs": []
    },
    {
      "cell_type": "markdown",
      "source": [
        "### Parte I.II - Wrangling"
      ],
      "metadata": {
        "id": "ETW4zLZl9jiS"
      }
    },
    {
      "cell_type": "markdown",
      "source": [
        "### Parte I.III - Estrutura"
      ],
      "metadata": {
        "id": "Gw5Ze0Pl9jYH"
      }
    },
    {
      "cell_type": "markdown",
      "source": [
        "### Parte I.IV - Schema"
      ],
      "metadata": {
        "id": "Ed-81nUr9jL3"
      }
    },
    {
      "cell_type": "markdown",
      "source": [
        "### Parte I.V - Dados Faltantes"
      ],
      "metadata": {
        "id": "7Sg7G68U9i6c"
      }
    },
    {
      "cell_type": "markdown",
      "source": [
        "## **Parte II - Transformação e Limpeza dos Dados**"
      ],
      "metadata": {
        "id": "0GsKdkOVz1L1"
      }
    },
    {
      "cell_type": "markdown",
      "source": [
        "## **Parte III - Visualização dos Dados**"
      ],
      "metadata": {
        "id": "VI-ixwT9z06o"
      }
    },
    {
      "cell_type": "markdown",
      "source": [
        "## **Parte IV - Storytelling dos Dados**"
      ],
      "metadata": {
        "id": "WCWn2zTpz0mC"
      }
    }
  ]
}